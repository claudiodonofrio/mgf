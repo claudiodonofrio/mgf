{
 "cells": [
  {
   "cell_type": "markdown",
   "metadata": {},
   "source": [
    "# Multiple Gap Filling Tool\n",
    "\n",
    "\n",
    "### Original code of \n",
    "\n",
    "    Lucas-Moffat et al., 2022, \"Multiple gap-filling for eddy covariance datasets\", AgrForMet.\n",
    "\n",
    "<font size=\"3\"> This notebook will load the example data, run the gap-filling, and analyze the results. <br> Please cite the paper if using this code. </font>"
   ]
  },
  {
   "cell_type": "markdown",
   "metadata": {},
   "source": [
    "## Check python environment"
   ]
  },
  {
   "cell_type": "raw",
   "metadata": {},
   "source": [
    "*** Please make sure the module versions are compatible. ***\n",
    "*** Output of original environment (11 August 2022) ***\n",
    "platform os: Darwin 21.4.0\n",
    "python: 3.8.8 (incl. modules sys, datetime,shutil)\n",
    "numpy: 1.20.3\n",
    "pandas: 1.3.5\n",
    "matplotlib: 3.5.0\n",
    "decimal: 1.70\n",
    "scipy: 1.7.3"
   ]
  },
  {
   "cell_type": "code",
   "execution_count": null,
   "metadata": {},
   "outputs": [],
   "source": [
    "# Check python libraries\n",
    "print(\"*** Check current environment ***\")\n",
    "import platform\n",
    "print(\"platform os:\", platform.system(), platform.release())\n",
    "print(\"python:\", platform.python_version(), \"(incl. modules sys, datetime,shutil)\")\n",
    "import numpy\n",
    "print(\"numpy:\", numpy.__version__)\n",
    "import pandas\n",
    "print(\"pandas:\", pandas.__version__)\n",
    "import matplotlib\n",
    "print(\"matplotlib:\",matplotlib.__version__)\n",
    "import decimal\n",
    "print(\"decimal:\",decimal.__version__)\n",
    "import scipy\n",
    "print(\"scipy:\",scipy.__version__)"
   ]
  },
  {
   "cell_type": "markdown",
   "metadata": {},
   "source": [
    "## Import necessary libraries"
   ]
  },
  {
   "cell_type": "code",
   "execution_count": null,
   "metadata": {},
   "outputs": [],
   "source": [
    "#Import pandas for reading ini-file\n",
    "import pandas as pd\n",
    "#Import multiple gap filling package\n",
    "import mgf\n",
    "print(\"Version mgf:\", mgf.__version__)"
   ]
  },
  {
   "cell_type": "markdown",
   "metadata": {},
   "source": [
    "## Load example data and settings"
   ]
  },
  {
   "cell_type": "code",
   "execution_count": null,
   "metadata": {},
   "outputs": [],
   "source": [
    "#Set file path and ini file name\n",
    "file_path='./example/DE-BaF_tNr'\n",
    "ini_name='tNr_BaF_2016_v03.ini'\n",
    "# run_number = '202208112034' #Old run with results saved in example directory\n",
    "\n",
    "#Print ini\n",
    "pd.read_csv(file_path+'/'+ini_name, sep=',', encoding='latin1', index_col=['Variable'])"
   ]
  },
  {
   "cell_type": "markdown",
   "metadata": {},
   "source": [
    "## Run multiple gap-filling techniques (GFT)"
   ]
  },
  {
   "cell_type": "code",
   "execution_count": null,
   "metadata": {},
   "outputs": [],
   "source": [
    "#Fill artificial gaps of length 'hhs' and 'days' with multiple techniques for the whole dataset\n",
    "run_number = mgf.mgf.run_GFT(ini_name, file_path)"
   ]
  },
  {
   "cell_type": "markdown",
   "metadata": {},
   "source": [
    "## Inspect the filled fluxes"
   ]
  },
  {
   "cell_type": "code",
   "execution_count": null,
   "metadata": {},
   "outputs": [],
   "source": [
    "### Load GFT results and (if available) model data, fill real gaps, save and plot results\n",
    "mgf.mgf.inspect_FF(file_path, run_number)"
   ]
  },
  {
   "cell_type": "markdown",
   "metadata": {},
   "source": [
    "## Bootstrap scenarios from the filled fluxes"
   ]
  },
  {
   "cell_type": "code",
   "execution_count": null,
   "metadata": {},
   "outputs": [],
   "source": [
    "#Bootstrap 999 'hhs' scenarios and 999 'days' scenario to evaluate the performances of the GFT¶\n",
    "mgf.mgf.bootstrap_FF(file_path, run_number)"
   ]
  },
  {
   "cell_type": "markdown",
   "metadata": {},
   "source": [
    "## Analyse bootstrap results"
   ]
  },
  {
   "cell_type": "code",
   "execution_count": null,
   "metadata": {},
   "outputs": [],
   "source": [
    "# Plot results, calculate sums and errors\n",
    "mgf.mgf.analyse_BS(file_path, run_number)"
   ]
  },
  {
   "cell_type": "markdown",
   "metadata": {},
   "source": [
    "## Pick emsemble"
   ]
  },
  {
   "cell_type": "code",
   "execution_count": null,
   "metadata": {},
   "outputs": [],
   "source": [
    "#Set GFT to be used for the ensemble results\n",
    "good_GFTs = 'FDA_hh6|MDA_hh5|LUT_V1V2_d7|LUT_V1V2V3_d7|ANN_CRU|ANN_all'\n",
    "\n",
    "# Plot ensemble results\n",
    "mgf.mgf.pick_GE(file_path, run_number, good_GFTs)"
   ]
  },
  {
   "cell_type": "code",
   "execution_count": null,
   "metadata": {},
   "outputs": [],
   "source": [
    "# Beep when finished (works on OS X)\n",
    "import os\n",
    "os.system(\"printf '\\a'\") # or '\\7'"
   ]
  }
 ],
 "metadata": {
  "kernelspec": {
   "display_name": "Python 3 (ipykernel)",
   "language": "python",
   "name": "python3"
  },
  "language_info": {
   "codemirror_mode": {
    "name": "ipython",
    "version": 3
   },
   "file_extension": ".py",
   "mimetype": "text/x-python",
   "name": "python",
   "nbconvert_exporter": "python",
   "pygments_lexer": "ipython3",
   "version": "3.8.8"
  }
 },
 "nbformat": 4,
 "nbformat_minor": 2
}
